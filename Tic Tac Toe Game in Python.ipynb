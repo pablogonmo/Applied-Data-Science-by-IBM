{
    "cells": [
        {
            "cell_type": "markdown",
            "metadata": {},
            "source": "# UDEMY Complete Python Bootcamp: - Milestone Project 1"
        },
        {
            "cell_type": "code",
            "execution_count": null,
            "metadata": {},
            "outputs": [],
            "source": "# # # # # # # # # # # # # # # # # # # # # # # # # # # # # # # # # # # # # # # # # # # # \n# UDEMY Complete Python Bootcamp\n# Milestone Project 1: \u00a1\u00a1\u00a1 Tic Tac Toe Game in Python !!!\n# \n# AUTHOR: Pablo Gonzalez Moreno\n# DATE: 05/2/2020\n# VERSION: 1.0\n# # # # # # # # # # # # # # # # # # # # # # # # # # # # # # # # # # # # # # # # # # # # "
        },
        {
            "cell_type": "code",
            "execution_count": 1,
            "metadata": {},
            "outputs": [],
            "source": "from IPython.display import clear_output\n\ndef display_board(board):\n    for i in range(1,10,3):\n#        for j in board[i:i+3]:\n         print(board[i],' | ', board[i+1],' | ', board[i+2])\n#        print(board[i*1],' | ',board[i*2],' | ',board[i*3])\n    pass\n"
        },
        {
            "cell_type": "code",
            "execution_count": 2,
            "metadata": {},
            "outputs": [],
            "source": "def player_input():\n    player1 = input(\"Please pick a marker 'X' or 'O'\")\n    while player1 not in('X','O'):\n        player1 = input(\"Sorry, I need 'X' or 'O', please pick a marker 'X' or 'O'\")\n        #print(player1)\n    return player1"
        },
        {
            "cell_type": "code",
            "execution_count": 3,
            "metadata": {},
            "outputs": [],
            "source": "def place_marker(board, marker, position):\n    board[position]=marker   \n    pass"
        },
        {
            "cell_type": "code",
            "execution_count": 4,
            "metadata": {},
            "outputs": [],
            "source": "def win_check(board, mark):\n    \n    winners=[[1,2,3],[4,5,6],[7,8,9],[1,4,7],[2,5,8],[3,6,9],[1,5,9],[3,5,7],[1,3,5,7],[1,3,5,9],[3,4,5,7],[3,5,7,9],[1,5,7,9],[1,5,7,8,9],[1,3,5,8,9],[1,2,6,8,9],[3,5,7,8,9],[1,2,3,5,7],[1,2,3,5,9]]\n    \n    positions=[]\n    \n    for i in range(1,10):\n        if board[i]==mark:\n            positions.append(i)\n    \n    return positions in winners"
        },
        {
            "cell_type": "code",
            "execution_count": 5,
            "metadata": {},
            "outputs": [],
            "source": "import random\n\ndef choose_first():\n    if random.randint(0,1)==0:\n        return 'X'\n    else: \n        return 'O'"
        },
        {
            "cell_type": "code",
            "execution_count": null,
            "metadata": {},
            "outputs": [],
            "source": "def space_check(board, position):\n    return board[position] in ('X','O') #False if available"
        },
        {
            "cell_type": "code",
            "execution_count": null,
            "metadata": {},
            "outputs": [],
            "source": "def full_board_check(board):\n    \n    full=True #False means is available\n    \n    for i in range(1,10):\n        if space_check(board,i)==False:\n            full=False\n        \n    return full"
        },
        {
            "cell_type": "code",
            "execution_count": null,
            "metadata": {},
            "outputs": [],
            "source": "def player_choice(board):\n    \n    position=int(input(\"Please pick an available position 1 to 9:\"))\n    \n    while space_check(board, position)==True: #it's not available\n        position=int(input(\"Not available, please pick an available position 1 to 9:\"))\n    \n    return position"
        },
        {
            "cell_type": "code",
            "execution_count": null,
            "metadata": {},
            "outputs": [],
            "source": "def replay():\n    \n    play_again=input(\"Do you want to play again (Y/N)?\")\n    while play_again not in ('Y','N'):\n        play_again=input(\"Sorry, enter 'Y' or 'N', do you want to play again (Y/N)?\")\n    \n    return play_again=='Y'"
        },
        {
            "cell_type": "code",
            "execution_count": null,
            "metadata": {},
            "outputs": [
                {
                    "name": "stdout",
                    "output_type": "stream",
                    "text": "Welcome to Tic Tac Toe!\n\n"
                }
            ],
            "source": "print('Welcome to Tic Tac Toe!')\nprint('')\n\nwhile True:\n    # Set the game up here\n    \n    board = ['#','1','2','3','4','5','6','7','8','9']\n    \n    p1=player_input()\n    print('\\tPlayer 1 is ', p1)\n    \n    if p1=='X':\n        p2='O'\n    else:\n        p2='X'\n\n    print('\\tPlayer 2 is ', p2)\n    print('')\n\n    if p1==choose_first():\n        player1=p1\n        player2=p2\n        print('First moves player ',p1)   \n    else:\n        player1=p2\n        player2=p1\n        print('First moves player ',p2)\n    print('')\n\n    pass\n\n    display_board(board)\n    \n    while full_board_check(board)==False:\n        #Player 1 Turn\n        if full_board_check(board)==False:\n            position=player_choice(board)\n            place_marker(board, player1, position)\n            \n            clear_output()\n            display_board(board)\n            \n            if win_check(board, player1)==True:\n                print('')\n                print('The winner is :',player1)\n                break\n        \n        # Player2's turn.\n        if full_board_check(board)==False:\n            position=player_choice(board)\n            place_marker(board, player2, position)\n            \n            clear_output()\n            display_board(board)\n            \n            if win_check(board, player2)==True:\n                print('')\n                print('The winner is :',player2)\n                break\n                \n            #pass\n    print('')\n    \n    if win_check(board, player1)==False and win_check(board, player2)==False:\n        print('No one wins')\n        \n   # print(board)\n   # print(space_check(board,1))\n    if not replay():\n        clear_output()\n        display_board(board)\n        print('')\n        print('Game End')\n        break\n    \n    clear_output()"
        }
    ],
    "metadata": {
        "kernelspec": {
            "display_name": "Python 3.6",
            "language": "python",
            "name": "python3"
        },
        "language_info": {
            "codemirror_mode": {
                "name": "ipython",
                "version": 3
            },
            "file_extension": ".py",
            "mimetype": "text/x-python",
            "name": "python",
            "nbconvert_exporter": "python",
            "pygments_lexer": "ipython3",
            "version": "3.6.9"
        }
    },
    "nbformat": 4,
    "nbformat_minor": 1
}