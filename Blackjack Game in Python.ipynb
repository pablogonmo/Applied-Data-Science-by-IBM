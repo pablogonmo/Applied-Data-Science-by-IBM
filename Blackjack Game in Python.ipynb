{
    "cells": [
        {
            "cell_type": "markdown",
            "metadata": {
                "collapsed": true
            },
            "source": "# UDEMY Complete Python Bootcamp: - Milestone Project 2"
        },
        {
            "cell_type": "code",
            "execution_count": null,
            "metadata": {},
            "outputs": [],
            "source": "# # # # # # # # # # # # # # # # # # # # # # # # # # # # # # # # # # # # # # # # # # # # \n# UDEMY Complete Python Bootcamp                                                      #\n# Milestone Project 2: \u00a1\u00a1\u00a1 Blackjack Game in Python !!!                               #\n#                                                                                     #\n# AUTHOR: Pablo Gonzalez Moreno                                                       #\n# DATE: 06/2/2020                                                                     #\n# VERSION: 1.0                                                                        #\n# # # # # # # # # # # # # # # # # # # # # # # # # # # # # # # # # # # # # # # # # # # # "
        },
        {
            "cell_type": "code",
            "execution_count": null,
            "metadata": {},
            "outputs": [],
            "source": "import random\n\nsuits = ('Hearts', 'Diamonds', 'Spades', 'Clubs')\nranks = ('Two', 'Three', 'Four', 'Five', 'Six', 'Seven', 'Eight', 'Nine', 'Ten', 'Jack', 'Queen', 'King', 'Ace')\nvalues = {'Two':2, 'Three':3, 'Four':4, 'Five':5, 'Six':6, 'Seven':7, 'Eight':8, 'Nine':9, 'Ten':10, 'Jack':10, 'Queen':10, 'King':10, 'Ace':11}\n\nplaying = True"
        },
        {
            "cell_type": "code",
            "execution_count": null,
            "metadata": {},
            "outputs": [],
            "source": "class Card():\n    \n    def __init__(self, rank, suit):\n        self.rank=rank\n        self.suit=suit\n    \n    def __str__(self):\n        return '{} of {}'.format(self.rank,self.suit)"
        },
        {
            "cell_type": "code",
            "execution_count": null,
            "metadata": {},
            "outputs": [],
            "source": "class Deck:\n    \n    def __init__(self):\n        self.deck = []  # start with an empty list\n        for suit in suits:\n            for rank in ranks:\n                card=Card(rank, suit)\n                self.deck.append(card)\n    \n    def __str__(self):\n        return len(self.deck)\n\n    def shuffle(self):\n        random.shuffle(self.deck)\n        \n    def deal(self):\n        dealt=self.deck.pop()\n        return dealt"
        },
        {
            "cell_type": "code",
            "execution_count": null,
            "metadata": {},
            "outputs": [],
            "source": "class Hand:\n    def __init__(self):\n        self.cards = []  # start with an empty list as we did in the Deck class\n        self.value = 0   # start with zero value\n        self.aces = 0    # add an attribute to keep track of aces\n        self.name= ''\n    \n    def add_card(self,card):\n        self.cards.append(card)\n        self.value+=values[card.rank]\n        print(\"{} added to {}'s hand\".format(card, self.name, self.value))\n        pass\n    \n    def adjust_for_ace(self):\n        self.value=0\n        self.aces=0\n        for card in self.cards:\n            self.value+=values[card.rank]\n            if card.rank == 'Ace':\n                self.aces+=1\n\n        if self.value>21 and self.aces==1:\n            self.value-=10\n        elif self.value>21 and self.aces>1:\n            self.value-=10*(self.aces-1)\n        \n        pass\n    \n    def __str__(self):\n        return \"\\ncurrent value is {} points\".format(self.value)"
        },
        {
            "cell_type": "code",
            "execution_count": null,
            "metadata": {},
            "outputs": [],
            "source": "class Chips:\n    \n    def __init__(self):\n        self.total = 100  # This can be set to a default value or supplied by a user input\n        self.bet = 0\n        \n    def win_bet(self):\n        self.total+=self.bet\n    \n    def lose_bet(self):\n        self.total-=self.bet"
        },
        {
            "cell_type": "code",
            "execution_count": null,
            "metadata": {},
            "outputs": [],
            "source": "def take_bet():\n\n    try:\n        chips.bet=int(input('\\nYou have {} chips, please enter your bet:'.format(chips.total)))\n    except:\n        chips.bet=int(input('\\nSorry, an integer is needed, please enter your bet:'))\n        \n    while chips.bet > chips.total:\n        chips.bet = int(input('\\nYou have insufficient chips for this bet, please enter a new one:'))"
        },
        {
            "cell_type": "code",
            "execution_count": null,
            "metadata": {},
            "outputs": [],
            "source": "def hit(deck,hand):\n    card=deck.deal()\n    hand.add_card(card)\n    \n    if hand.value>21:\n        hand.adjust_for_ace()\n    \n    pass\n\ndef hit_or_stand(deck,hand):\n    global playing  # to control an upcoming while loop\n    \n    if input('\\nDo you want to hit (Y/N)?\\n')=='Y':\n        hit(deck,hand)\n    else:\n        playing=False\n\n    pass"
        },
        {
            "cell_type": "code",
            "execution_count": null,
            "metadata": {},
            "outputs": [],
            "source": "def show_some(player,dealer):\n    player\n    print(\"\\n*** PLAYER's CARDS - Total Points: {} ***\".format(player.value))\n    for i in player.cards:\n        print('\\t',i)\n    \n    dealer\n    print(\"\\n*** DEALER'S CARDS ***\".format(dealer.value))\n    print('\\t #########')\n    for i in dealer.cards[1:]:\n        print('\\t',i)\n\ndef show_all(player,dealer):\n    player\n    print(\"\\n*** PLAYER's CARDS - Total Points: {} ***\".format(player.value))\n    for i in player.cards:\n        print('\\t',i)\n    \n    dealer\n    print(\"\\n*** DEALER'S CARDS - Total Points: {} ***\".format(dealer.value))\n    for i in dealer.cards:\n        print('\\t',i)"
        },
        {
            "cell_type": "code",
            "execution_count": null,
            "metadata": {},
            "outputs": [],
            "source": "def player_busts():\n    print('\\n\\t\\tPlayer busted!')\n    chips.lose_bet()\n\ndef player_wins():\n    print('\\n\\t\\tPlayer wins!')\n    chips.win_bet()\n\ndef dealer_busts():\n    print('\\n\\t\\tDealer busted!')\n    chips.win_bet()\n    \ndef dealer_wins():\n    print('\\n\\t\\tDealer wins!')\n    chips.lose_bet()\n    \ndef push():\n    print('\\n\\t\\tPush!')"
        },
        {
            "cell_type": "code",
            "execution_count": null,
            "metadata": {},
            "outputs": [],
            "source": "print('\\t\\tWelcome to the Blackjack Game written in Python!\\n')\n\n# Set up the Player's chips\nchips=Chips()\n    \nwhile True:\n    # Print an opening statement\n    print('\\n\u00a1Round start!\\n')\n    \n    # Create & shuffle the deck, deal two cards to each player\n    deck = Deck()\n#    print(deck)\n\n    deck.shuffle()\n    \n    player=Hand()\n    player.name='player'\n    dealer=Hand()\n    dealer.name='dealer'\n          \n    player.add_card(deck.deal())\n    player.add_card(deck.deal())\n    player.adjust_for_ace()\n    \n    dealer.add_card(deck.deal())\n    dealer.add_card(deck.deal())\n    dealer.adjust_for_ace()\n          \n    # Prompt the Player for their bet\n    bet=take_bet()\n    \n    # Show cards (but keep one dealer card hidden)\n    show_some(player,dealer)\n\n    \n    while playing:  # recall this variable from our hit_or_stand function\n        \n        # Prompt for Player to Hit or Stand\n        hit_or_stand(deck,player)\n        \n        # Show cards (but keep one dealer card hidden)\n        show_some(player,dealer)\n        \n        # If player's hand exceeds 21, run player_busts() and break out of loop\n        if player.value>21:\n            player_busts()\n            break\n        \n    else:\n    # If Player hasn't busted, play Dealer's hand until Dealer reaches 17\n        while dealer.value<17:\n            hit(deck,dealer)\n            dealer.adjust_for_ace()\n\n        # Show all cards\n        show_all(player,dealer) \n            \n        # Run different winning scenarios\n        if dealer.value>21:\n            dealer_busts()\n        elif dealer.value>player.value:\n            dealer_wins()\n        elif player.value>dealer.value:\n            player_wins()\n        else:\n            push()\n    \n    # Inform Player of their chips total \n    print('\\nYou now have {} chips'.format(chips.total))\n    \n    # Ask to play again\n    if chips.total==0:\n        print(\"\\nYou don't have funds, Game Over!\")\n        break\n    elif input('\\n\\tDo you want to play again (Y/N)?')=='N':\n        break\n    else:\n        playing = True"
        }
    ],
    "metadata": {
        "kernelspec": {
            "display_name": "Python 3.6",
            "language": "python",
            "name": "python3"
        },
        "language_info": {
            "codemirror_mode": {
                "name": "ipython",
                "version": 3
            },
            "file_extension": ".py",
            "mimetype": "text/x-python",
            "name": "python",
            "nbconvert_exporter": "python",
            "pygments_lexer": "ipython3",
            "version": "3.6.9"
        }
    },
    "nbformat": 4,
    "nbformat_minor": 1
}